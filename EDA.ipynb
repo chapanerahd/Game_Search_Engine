{
 "cells": [
  {
   "cell_type": "code",
   "execution_count": 12,
   "metadata": {},
   "outputs": [],
   "source": [
    "import pandas as pd\n",
    "online_games_info = pd.read_csv('online_games_info.csv')"
   ]
  },
  {
   "cell_type": "code",
   "execution_count": 13,
   "metadata": {},
   "outputs": [
    {
     "data": {
      "text/html": [
       "<div>\n",
       "<style>\n",
       "    .dataframe thead tr:only-child th {\n",
       "        text-align: right;\n",
       "    }\n",
       "\n",
       "    .dataframe thead th {\n",
       "        text-align: left;\n",
       "    }\n",
       "\n",
       "    .dataframe tbody tr th {\n",
       "        vertical-align: top;\n",
       "    }\n",
       "</style>\n",
       "<table border=\"1\" class=\"dataframe\">\n",
       "  <thead>\n",
       "    <tr style=\"text-align: right;\">\n",
       "      <th></th>\n",
       "      <th>meta_des</th>\n",
       "      <th>meta_des2</th>\n",
       "      <th>meta_title</th>\n",
       "      <th>url</th>\n",
       "    </tr>\n",
       "  </thead>\n",
       "  <tbody>\n",
       "    <tr>\n",
       "      <th>0</th>\n",
       "      <td>['Foes.io is a free multiplayer battle royale ...</td>\n",
       "      <td>[]</td>\n",
       "      <td>[]</td>\n",
       "      <td>https://foes.io/</td>\n",
       "    </tr>\n",
       "    <tr>\n",
       "      <th>1</th>\n",
       "      <td>['I-Mockery.com - Dedicated to what really mat...</td>\n",
       "      <td>[]</td>\n",
       "      <td>[]</td>\n",
       "      <td>http://www.i-mockery.com/</td>\n",
       "    </tr>\n",
       "    <tr>\n",
       "      <th>2</th>\n",
       "      <td>['Featuring the best Free Online Games, with n...</td>\n",
       "      <td>[]</td>\n",
       "      <td>[]</td>\n",
       "      <td>http://www.notdoppler.com/</td>\n",
       "    </tr>\n",
       "    <tr>\n",
       "      <th>3</th>\n",
       "      <td>['Matrix Rampage is an action packed Fighting ...</td>\n",
       "      <td>['Matrix Rampage']</td>\n",
       "      <td>['Matrix Rampage']</td>\n",
       "      <td>http://matrix-rampage.freeonlinegames.com/</td>\n",
       "    </tr>\n",
       "    <tr>\n",
       "      <th>4</th>\n",
       "      <td>['Albino Blacksheep (ABS): Mostly Flash, Game ...</td>\n",
       "      <td>['Albino Blacksheep']</td>\n",
       "      <td>['Albino Blacksheep']</td>\n",
       "      <td>http://www.albinoblacksheep.com/</td>\n",
       "    </tr>\n",
       "  </tbody>\n",
       "</table>\n",
       "</div>"
      ],
      "text/plain": [
       "                                            meta_des              meta_des2  \\\n",
       "0  ['Foes.io is a free multiplayer battle royale ...                     []   \n",
       "1  ['I-Mockery.com - Dedicated to what really mat...                     []   \n",
       "2  ['Featuring the best Free Online Games, with n...                     []   \n",
       "3  ['Matrix Rampage is an action packed Fighting ...     ['Matrix Rampage']   \n",
       "4  ['Albino Blacksheep (ABS): Mostly Flash, Game ...  ['Albino Blacksheep']   \n",
       "\n",
       "              meta_title                                         url  \n",
       "0                     []                            https://foes.io/  \n",
       "1                     []                   http://www.i-mockery.com/  \n",
       "2                     []                  http://www.notdoppler.com/  \n",
       "3     ['Matrix Rampage']  http://matrix-rampage.freeonlinegames.com/  \n",
       "4  ['Albino Blacksheep']            http://www.albinoblacksheep.com/  "
      ]
     },
     "execution_count": 13,
     "metadata": {},
     "output_type": "execute_result"
    }
   ],
   "source": [
    "online_games_info.head()"
   ]
  },
  {
   "cell_type": "code",
   "execution_count": 17,
   "metadata": {},
   "outputs": [
    {
     "data": {
      "text/plain": [
       "\"['Foes.io is a free multiplayer battle royale online game']\""
      ]
     },
     "execution_count": 17,
     "metadata": {},
     "output_type": "execute_result"
    }
   ],
   "source": [
    "online_games_info['meta_des']\n"
   ]
  },
  {
   "cell_type": "code",
   "execution_count": 28,
   "metadata": {},
   "outputs": [
    {
     "data": {
      "text/plain": [
       "0     'Foes.io is a free multiplayer battle royale o...\n",
       "1     'I-Mockery.com - Dedicated to what really matt...\n",
       "2     'Featuring the best Free Online Games, with ne...\n",
       "3     'Matrix Rampage is an action packed Fighting G...\n",
       "4     'Albino Blacksheep (ABS): Mostly Flash, Game a...\n",
       "5     'Enter our free online sweepstakes and contest...\n",
       "6     'Free web games: Online classic arcade games, ...\n",
       "7                                                      \n",
       "8                                                      \n",
       "9     '\\x8eæ\\x8eè\\x8es\\x82Å\\x8eØ\\x8bà\\x95Ô\\x8dÏ\\x82Ì...\n",
       "10     'See related links to what you are looking for.'\n",
       "11    \"Neptune's Pride, the multiplayer game of Stra...\n",
       "12                                                     \n",
       "13    'Yetisports is a web-based Flash game created ...\n",
       "14     'The site holds a lot of free games for public.'\n",
       "15    'OneMorelevel is your daily source for free ad...\n",
       "16                                                     \n",
       "17    'B3ta will eat your soul and destroy your will...\n",
       "18    \"A tale about a boy and his friends and a game...\n",
       "19    'Enter the newest .io arena shooter on browser...\n",
       "20                                                     \n",
       "21                              'Play Blast Arena now!'\n",
       "22                                                     \n",
       "23                                                     \n",
       "24    \"DeviantArt is the world's largest online soci...\n",
       "25                                                     \n",
       "26                                                     \n",
       "27    'Delve into the fascinating world of BMW. Read...\n",
       "28    'A free game, where players control a goldfish...\n",
       "29                                                     \n",
       "                            ...                        \n",
       "67    'Play the largest selection of online games at...\n",
       "68    'xiao xiao, stick figure deaths xiao movies, a...\n",
       "69    'The smash hit game! Control your cell and eat...\n",
       "70                          'Ladder in a walled garden'\n",
       "71                                                     \n",
       "72                                                     \n",
       "73                                                     \n",
       "74                                                     \n",
       "75    'Play free online Flash games, retro games, ar...\n",
       "76                                                     \n",
       "77    'Helicopter Game is one of the most famous and...\n",
       "78                                                     \n",
       "79                                                     \n",
       "80                                                     \n",
       "81    '400万人以上が利用しているホームページ作成サービス。無料で簡単にホームページを作成できま...\n",
       "82                                                     \n",
       "83                                                     \n",
       "84                                                   ''\n",
       "85    'Our games are sprinkled with a whirlwind of s...\n",
       "86                                                     \n",
       "87    'Play over 1,800 free online games. Shockwave....\n",
       "88    'The smash-hit game! Play with millions of pla...\n",
       "89                                                     \n",
       "90                                                     \n",
       "91    'Juegos gratis sin descargar y multijugador. J...\n",
       "92                                                     \n",
       "93    'Free games are added everyday, with over 2000...\n",
       "94    'This website is for sale! fasco-csc.com is yo...\n",
       "95    'Play Free Online Games, fun games, puzzle gam...\n",
       "96                                                     \n",
       "Name: meta_des, Length: 97, dtype: object"
      ]
     },
     "execution_count": 28,
     "metadata": {},
     "output_type": "execute_result"
    }
   ],
   "source": [
    "online_games_info['meta_des'].str.replace('[','').str.replace(']','')\n"
   ]
  },
  {
   "cell_type": "code",
   "execution_count": null,
   "metadata": {},
   "outputs": [],
   "source": []
  },
  {
   "cell_type": "code",
   "execution_count": null,
   "metadata": {},
   "outputs": [],
   "source": []
  },
  {
   "cell_type": "code",
   "execution_count": null,
   "metadata": {},
   "outputs": [],
   "source": []
  }
 ],
 "metadata": {
  "kernelspec": {
   "display_name": "Python 3",
   "language": "python",
   "name": "python3"
  },
  "language_info": {
   "codemirror_mode": {
    "name": "ipython",
    "version": 3
   },
   "file_extension": ".py",
   "mimetype": "text/x-python",
   "name": "python",
   "nbconvert_exporter": "python",
   "pygments_lexer": "ipython3",
   "version": "3.6.6"
  }
 },
 "nbformat": 4,
 "nbformat_minor": 2
}
